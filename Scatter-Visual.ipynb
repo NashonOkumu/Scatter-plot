{
 "cells": [
  {
   "cell_type": "code",
   "execution_count": 3,
   "id": "4de8654f",
   "metadata": {},
   "outputs": [],
   "source": [
    "#importing the matplotlib library\n",
    "import matplotlib.pyplot as plt"
   ]
  },
  {
   "cell_type": "code",
   "execution_count": 4,
   "id": "d9aed220",
   "metadata": {},
   "outputs": [],
   "source": [
    "#initializing data\n",
    "x=[10, 20, 30, 40]\n",
    "y=[20, 25, 35, 55]"
   ]
  },
  {
   "cell_type": "code",
   "execution_count": 5,
   "id": "a02175f0",
   "metadata": {},
   "outputs": [
    {
     "data": {
      "image/png": "[encoded data removed]",
      "text/plain": [
       "<Figure size 432x288 with 1 Axes>"
      ]
     },
     "metadata": {
      "needs_background": "light"
     },
     "output_type": "display_data"
    }
   ],
   "source": [
    "#plotting line-graph \n",
    "plt.scatter(x,y)\n",
    "\n",
    "#Adding title \n",
    "plt.title(\"SCATTER PLOT\", fontsize=15, color=\"blue\")\n",
    "\n",
    "#labeling axes \n",
    "plt.xlabel(\"x-axis\") \n",
    "plt.ylabel(\"y-axis\")\n",
    "\n",
    "#printing the results\n",
    "plt.show()"
   ]
  },
  {
   "cell_type": "code",
   "execution_count": null,
   "id": "e08ed122",
   "metadata": {},
   "outputs": [],
   "source": []
  }
 ],
 "metadata": {
  "kernelspec": {
   "display_name": "Python 3",
   "language": "python",
   "name": "python3"
  },
  "language_info": {
   "codemirror_mode": {
    "name": "ipython",
    "version": 3
   },
   "file_extension": ".py",
   "mimetype": "text/x-python",
   "name": "python",
   "nbconvert_exporter": "python",
   "pygments_lexer": "ipython3",
   "version": "3.8.8"
  }
 },
 "nbformat": 4,
 "nbformat_minor": 5
}
